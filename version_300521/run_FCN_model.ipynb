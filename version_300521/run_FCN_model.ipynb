{
 "cells": [
  {
   "cell_type": "markdown",
   "id": "56676f65",
   "metadata": {
    "id": "o8wO2x4OuNCY",
    "jupyter": {
     "outputs_hidden": false
    }
   },
   "source": [
    "# Notebook 1 : FCN model"
   ]
  },
  {
   "cell_type": "code",
   "execution_count": 1,
   "id": "2f3d19e2",
   "metadata": {
    "colab": {
     "base_uri": "https://localhost:8080/"
    },
    "executionInfo": {
     "elapsed": 77214,
     "status": "ok",
     "timestamp": 1620672737465,
     "user": {
      "displayName": "arnout coenegrachts",
      "photoUrl": "",
      "userId": "17436663762688073473"
     },
     "user_tz": -120
    },
    "id": "qPjqRkV-iTMG",
    "outputId": "12a3d1c9-9b9c-4cc2-f221-0374fb9bd297"
   },
   "outputs": [
    {
     "name": "stdout",
     "output_type": "stream",
     "text": [
      "Mounted at /content/gdrive\n",
      "Collecting aidapy\n",
      "\u001b[?25l  Downloading https://files.pythonhosted.org/packages/78/2d/af631d6a790fd04ed5aa94f1b4f2be0548db7e8e49fe8392180ede4bc9a1/aidapy-0.0.4-py3-none-any.whl (78kB)\n",
      "\u001b[K     |████████████████████████████████| 81kB 6.1MB/s \n",
      "\u001b[?25hRequirement already satisfied: matplotlib in /usr/local/lib/python3.7/dist-packages (from aidapy) (3.2.2)\n",
      "Collecting sunpy\n",
      "\u001b[?25l  Downloading https://files.pythonhosted.org/packages/2a/b7/bbfbb59eacc69af20f0ac5fd0d345659f716580d09f1a6b2d7fbb403c853/sunpy-2.1.4-cp37-cp37m-manylinux2014_x86_64.whl (7.0MB)\n",
      "\u001b[K     |████████████████████████████████| 7.0MB 10.7MB/s \n",
      "\u001b[?25hRequirement already satisfied: requests in /usr/local/lib/python3.7/dist-packages (from aidapy) (2.23.0)\n",
      "Requirement already satisfied: astropy in /usr/local/lib/python3.7/dist-packages (from aidapy) (4.2.1)\n",
      "Collecting extension\n",
      "\u001b[?25l  Downloading https://files.pythonhosted.org/packages/6a/1d/4bb4600b2e9f9792c1185399c535362a222d1eeef8b20e93d46fe368a41d/extension-1.0.0-py3-none-any.whl (929kB)\n",
      "\u001b[K     |████████████████████████████████| 931kB 37.6MB/s \n",
      "\u001b[?25hRequirement already satisfied: numpy in /usr/local/lib/python3.7/dist-packages (from aidapy) (1.19.5)\n",
      "Collecting heliopy-multid\n",
      "  Downloading https://files.pythonhosted.org/packages/aa/74/5125cd5f16b995a4d62313bce21a5534a3e0545578365579c126a669b0ce/heliopy_multid-0.0.3-py3-none-any.whl\n",
      "Requirement already satisfied: bottleneck in /usr/local/lib/python3.7/dist-packages (from aidapy) (1.3.2)\n",
      "Collecting heliopy>=0.12.0\n",
      "\u001b[?25l  Downloading https://files.pythonhosted.org/packages/d0/b1/e591fbe57238b547b32cfcefedcdf4e13d01d8da8b2a289fea876040d833/HelioPy-0.15.3.tar.gz (181kB)\n",
      "\u001b[K     |████████████████████████████████| 184kB 36.4MB/s \n",
      "\u001b[?25h  Installing build dependencies ... \u001b[?25l\u001b[?25hdone\n",
      "  Getting requirements to build wheel ... \u001b[?25l\u001b[?25hdone\n",
      "    Preparing wheel metadata ... \u001b[?25l\u001b[?25hdone\n",
      "Collecting cdflib\n",
      "\u001b[?25l  Downloading https://files.pythonhosted.org/packages/89/91/40a36d327824534771269508d3c0d011a937aa5c4bd564a63a5b7609f05a/cdflib-0.3.20.tar.gz (68kB)\n",
      "\u001b[K     |████████████████████████████████| 71kB 8.2MB/s \n",
      "\u001b[?25h  Installing build dependencies ... \u001b[?25l\u001b[?25hdone\n",
      "  Getting requirements to build wheel ... \u001b[?25l\u001b[?25hdone\n",
      "    Preparing wheel metadata ... \u001b[?25l\u001b[?25hdone\n",
      "Requirement already satisfied: more-itertools in /usr/local/lib/python3.7/dist-packages (from aidapy) (8.7.0)\n",
      "Requirement already satisfied: xarray in /usr/local/lib/python3.7/dist-packages (from aidapy) (0.15.1)\n",
      "Requirement already satisfied: python-dateutil>=2.1 in /usr/local/lib/python3.7/dist-packages (from matplotlib->aidapy) (2.8.1)\n",
      "Requirement already satisfied: cycler>=0.10 in /usr/local/lib/python3.7/dist-packages (from matplotlib->aidapy) (0.10.0)\n",
      "Requirement already satisfied: pyparsing!=2.0.4,!=2.1.2,!=2.1.6,>=2.0.1 in /usr/local/lib/python3.7/dist-packages (from matplotlib->aidapy) (2.4.7)\n",
      "Requirement already satisfied: kiwisolver>=1.0.1 in /usr/local/lib/python3.7/dist-packages (from matplotlib->aidapy) (1.3.1)\n",
      "Collecting parfive[ftp]>=1.1.0\n",
      "  Downloading https://files.pythonhosted.org/packages/91/99/ddf243a0a9725c8598d65753d9312e85e242ac3ab91c3a1cf37ff276adc2/parfive-1.3.0-py3-none-any.whl\n",
      "Requirement already satisfied: certifi>=2017.4.17 in /usr/local/lib/python3.7/dist-packages (from requests->aidapy) (2020.12.5)\n",
      "Requirement already satisfied: idna<3,>=2.5 in /usr/local/lib/python3.7/dist-packages (from requests->aidapy) (2.10)\n",
      "Requirement already satisfied: urllib3!=1.25.0,!=1.25.1,<1.26,>=1.21.1 in /usr/local/lib/python3.7/dist-packages (from requests->aidapy) (1.24.3)\n",
      "Requirement already satisfied: chardet<4,>=3.0.2 in /usr/local/lib/python3.7/dist-packages (from requests->aidapy) (3.0.4)\n",
      "Requirement already satisfied: pyerfa in /usr/local/lib/python3.7/dist-packages (from astropy->aidapy) (1.7.2)\n",
      "Requirement already satisfied: flask>=1.0.2 in /usr/local/lib/python3.7/dist-packages (from extension->aidapy) (1.1.2)\n",
      "Requirement already satisfied: markdown>=3.0.1 in /usr/local/lib/python3.7/dist-packages (from extension->aidapy) (3.3.4)\n",
      "Requirement already satisfied: pandas in /usr/local/lib/python3.7/dist-packages (from heliopy-multid->aidapy) (1.1.5)\n",
      "Collecting wget\n",
      "  Downloading https://files.pythonhosted.org/packages/47/6a/62e288da7bcda82b935ff0c6cfe542970f04e29c756b0e147251b2fb251f/wget-3.2.zip\n",
      "Requirement already satisfied: attrs>=19.2.0 in /usr/local/lib/python3.7/dist-packages (from cdflib->aidapy) (20.3.0)\n",
      "Requirement already satisfied: setuptools>=41.2 in /usr/local/lib/python3.7/dist-packages (from xarray->aidapy) (56.1.0)\n",
      "Requirement already satisfied: six>=1.5 in /usr/local/lib/python3.7/dist-packages (from python-dateutil>=2.1->matplotlib->aidapy) (1.15.0)\n",
      "Collecting aiohttp\n",
      "\u001b[?25l  Downloading https://files.pythonhosted.org/packages/88/c0/5890b4c8b04a79b7360e8fe4490feb0bb3ab179743f199f0e6220cebd568/aiohttp-3.7.4.post0-cp37-cp37m-manylinux2014_x86_64.whl (1.3MB)\n",
      "\u001b[K     |████████████████████████████████| 1.3MB 34.8MB/s \n",
      "\u001b[?25hRequirement already satisfied: tqdm in /usr/local/lib/python3.7/dist-packages (from parfive[ftp]>=1.1.0->sunpy->aidapy) (4.41.1)\n",
      "Collecting aioftp>=0.17.1; extra == \"ftp\"\n",
      "  Downloading https://files.pythonhosted.org/packages/d7/65/b67159782bed978007a20ca4a9ad4b6a7af86b0b3120523404c468604e99/aioftp-0.18.1-py3-none-any.whl\n",
      "Requirement already satisfied: click>=5.1 in /usr/local/lib/python3.7/dist-packages (from flask>=1.0.2->extension->aidapy) (7.1.2)\n",
      "Requirement already satisfied: itsdangerous>=0.24 in /usr/local/lib/python3.7/dist-packages (from flask>=1.0.2->extension->aidapy) (1.1.0)\n",
      "Requirement already satisfied: Jinja2>=2.10.1 in /usr/local/lib/python3.7/dist-packages (from flask>=1.0.2->extension->aidapy) (2.11.3)\n",
      "Requirement already satisfied: Werkzeug>=0.15 in /usr/local/lib/python3.7/dist-packages (from flask>=1.0.2->extension->aidapy) (1.0.1)\n",
      "Requirement already satisfied: importlib-metadata; python_version < \"3.8\" in /usr/local/lib/python3.7/dist-packages (from markdown>=3.0.1->extension->aidapy) (3.10.1)\n",
      "Requirement already satisfied: pytz>=2017.2 in /usr/local/lib/python3.7/dist-packages (from pandas->heliopy-multid->aidapy) (2018.9)\n",
      "Collecting async-timeout<4.0,>=3.0\n",
      "  Downloading https://files.pythonhosted.org/packages/e1/1e/5a4441be21b0726c4464f3f23c8b19628372f606755a9d2e46c187e65ec4/async_timeout-3.0.1-py3-none-any.whl\n",
      "Requirement already satisfied: typing-extensions>=3.6.5 in /usr/local/lib/python3.7/dist-packages (from aiohttp->parfive[ftp]>=1.1.0->sunpy->aidapy) (3.7.4.3)\n",
      "Collecting multidict<7.0,>=4.5\n",
      "\u001b[?25l  Downloading https://files.pythonhosted.org/packages/7c/a6/4123b8165acbe773d1a8dc8e3f0d1edea16d29f7de018eda769abb56bd30/multidict-5.1.0-cp37-cp37m-manylinux2014_x86_64.whl (142kB)\n",
      "\u001b[K     |████████████████████████████████| 143kB 39.8MB/s \n",
      "\u001b[?25hCollecting yarl<2.0,>=1.0\n",
      "\u001b[?25l  Downloading https://files.pythonhosted.org/packages/f1/62/046834c5fc998c88ab2ef722f5d42122230a632212c8afa76418324f53ff/yarl-1.6.3-cp37-cp37m-manylinux2014_x86_64.whl (294kB)\n",
      "\u001b[K     |████████████████████████████████| 296kB 43.0MB/s \n",
      "\u001b[?25hRequirement already satisfied: MarkupSafe>=0.23 in /usr/local/lib/python3.7/dist-packages (from Jinja2>=2.10.1->flask>=1.0.2->extension->aidapy) (1.1.1)\n",
      "Requirement already satisfied: zipp>=0.5 in /usr/local/lib/python3.7/dist-packages (from importlib-metadata; python_version < \"3.8\"->markdown>=3.0.1->extension->aidapy) (3.4.1)\n",
      "Building wheels for collected packages: heliopy, cdflib\n",
      "  Building wheel for heliopy (PEP 517) ... \u001b[?25l\u001b[?25hdone\n",
      "  Created wheel for heliopy: filename=HelioPy-0.15.3-cp37-none-any.whl size=82637 sha256=b6bd702c1600eb96acfd35203dc76b268c92c443861c414fb141a080d15fa727\n",
      "  Stored in directory: /root/.cache/pip/wheels/10/61/cd/11367c01433d89f39db4b5eddda92ecf640766ee737bfef5ba\n",
      "  Building wheel for cdflib (PEP 517) ... \u001b[?25l\u001b[?25hdone\n",
      "  Created wheel for cdflib: filename=cdflib-0.3.20-cp37-none-any.whl size=61607 sha256=8ccd2f2411c2ff1c685f86af68af10a9002dd737e72b8da9e3ebadae83bf52c5\n",
      "  Stored in directory: /root/.cache/pip/wheels/25/4c/dc/1404d995ed272eee423f1ecab3274fe367488a95aa71f4a06a\n",
      "Successfully built heliopy cdflib\n",
      "Building wheels for collected packages: wget\n",
      "  Building wheel for wget (setup.py) ... \u001b[?25l\u001b[?25hdone\n",
      "  Created wheel for wget: filename=wget-3.2-cp37-none-any.whl size=9681 sha256=2f498b6edb64fec0fedc6d5ebaac625fbaec292e3bbd40d7afe56880c047f910\n",
      "  Stored in directory: /root/.cache/pip/wheels/40/15/30/7d8f7cea2902b4db79e3fea550d7d7b85ecb27ef992b618f3f\n",
      "Successfully built wget\n",
      "Installing collected packages: async-timeout, multidict, yarl, aiohttp, aioftp, parfive, sunpy, extension, wget, heliopy, cdflib, heliopy-multid, aidapy\n",
      "Successfully installed aidapy-0.0.4 aioftp-0.18.1 aiohttp-3.7.4.post0 async-timeout-3.0.1 cdflib-0.3.20 extension-1.0.0 heliopy-0.15.3 heliopy-multid-0.0.3 multidict-5.1.0 parfive-1.3.0 sunpy-2.1.4 wget-3.2 yarl-1.6.3\n",
      "Collecting h5netcdf\n",
      "  Downloading https://files.pythonhosted.org/packages/1f/67/066987e482ff971d9b6b52263ce80904719cf15bf0f8319938d42d9af6fe/h5netcdf-0.11.0-py2.py3-none-any.whl\n",
      "Requirement already satisfied: h5py in /usr/local/lib/python3.7/dist-packages (from h5netcdf) (2.10.0)\n",
      "Requirement already satisfied: numpy>=1.7 in /usr/local/lib/python3.7/dist-packages (from h5py->h5netcdf) (1.19.5)\n",
      "Requirement already satisfied: six in /usr/local/lib/python3.7/dist-packages (from h5py->h5netcdf) (1.15.0)\n",
      "Installing collected packages: h5netcdf\n",
      "Successfully installed h5netcdf-0.11.0\n",
      "/content/gdrive/MyDrive/Univeristy/version_080521\n"
     ]
    }
   ],
   "source": [
    "#When running this code on colabratory, put this boolean to True. Else, put it to False\n",
    "colabratory = True\n",
    "\n",
    "if colabratory == True:\n",
    "  #allow access to files\n",
    "  from google.colab import drive\n",
    "  drive.mount('/content/gdrive')\n",
    "\n",
    "  #install missing packages\n",
    "  !pip install aidapy\n",
    "  !pip install h5netcdf\n",
    "\n",
    "  #travel to correct directory\n",
    "  %cd gdrive/MyDrive/Univeristy/version_080521/"
   ]
  },
  {
   "cell_type": "code",
   "execution_count": 2,
   "id": "33f59208",
   "metadata": {
    "colab": {
     "base_uri": "https://localhost:8080/"
    },
    "executionInfo": {
     "elapsed": 6741,
     "status": "ok",
     "timestamp": 1620672762192,
     "user": {
      "displayName": "arnout coenegrachts",
      "photoUrl": "",
      "userId": "17436663762688073473"
     },
     "user_tz": -120
    },
    "id": "Uwd6ij3dutzH",
    "outputId": "0a3932f8-7fa0-4d72-fd79-d2c06490dcce"
   },
   "outputs": [
    {
     "name": "stdout",
     "output_type": "stream",
     "text": [
      "Creating download directory /root/heliopy/data\n"
     ]
    }
   ],
   "source": [
    "%run notebook_setup.py"
   ]
  },
  {
   "cell_type": "markdown",
   "id": "4f24e54c",
   "metadata": {
    "id": "fiKJb4aBuNCl"
   },
   "source": [
    "## Data"
   ]
  },
  {
   "cell_type": "code",
   "execution_count": null,
   "id": "80460ec5",
   "metadata": {
    "collapsed": true,
    "id": "88TOWsiUuNCm",
    "jupyter": {
     "outputs_hidden": false
    }
   },
   "outputs": [],
   "source": [
    "### This code is directly taken from \"classification_results.ipynb\"\n",
    "ml_method = 'tsc' # tsc, mlp\n",
    "data_version = 'mms1_samp_4dot5s_win_3min_pad_wrap' \n",
    "data_process = 'no_flux_shuffle_znorm' \n",
    "classifier_name = 'fcn'\n",
    "period = '2016_2018'\n",
    "\n",
    "x_train, y_train, x_test, y_test, x_val, y_val = l_tools.generate_train_test(\n",
    "    ml_method, \n",
    "    data_version, \n",
    "    data_process, \n",
    "    period)"
   ]
  },
  {
   "cell_type": "code",
   "execution_count": null,
   "id": "58776ec1",
   "metadata": {
    "colab": {
     "base_uri": "https://localhost:8080/"
    },
    "executionInfo": {
     "elapsed": 477,
     "status": "ok",
     "timestamp": 1620551836870,
     "user": {
      "displayName": "arnout coenegrachts",
      "photoUrl": "",
      "userId": "17436663762688073473"
     },
     "user_tz": -120
    },
    "id": "DX-IqAzIuNCm",
    "outputId": "5446c3a7-2085-4a3a-95bb-c147280f79a6"
   },
   "outputs": [
    {
     "name": "stdout",
     "output_type": "stream",
     "text": [
      ">> TRAINING DATASET \t (19214, 40, 12) \t (19214,) \t (19214, 10)\n",
      ">> VALIDATION DATASET \t (6405, 40, 12) \t\t (6405,) \t (6405, 10)\n",
      ">> TEST DATASET \t (8540, 40, 12) \t\t (8540,) \t (8540, 10)\n"
     ]
    }
   ],
   "source": [
    "y_train_cat = keras.utils.to_categorical(y_train)\n",
    "y_val_cat   = keras.utils.to_categorical(y_val)\n",
    "y_test_cat  = keras.utils.to_categorical(y_test)\n",
    "\n",
    "print('>> TRAINING DATASET \\t',\n",
    "      x_train.shape,'\\t',\n",
    "      y_train.shape,'\\t',\n",
    "      y_train_cat.shape)\n",
    "print('>> VALIDATION DATASET \\t',\n",
    "      x_val.shape,'\\t\\t',\n",
    "      y_val.shape,'\\t',\n",
    "      y_val_cat.shape)\n",
    "print('>> TEST DATASET \\t',\n",
    "      x_test.shape,'\\t\\t',\n",
    "      y_test.shape,'\\t',\n",
    "      y_test_cat.shape)"
   ]
  },
  {
   "cell_type": "code",
   "execution_count": null,
   "id": "879c4c2d",
   "metadata": {
    "colab": {
     "base_uri": "https://localhost:8080/"
    },
    "executionInfo": {
     "elapsed": 459,
     "status": "ok",
     "timestamp": 1620551842945,
     "user": {
      "displayName": "arnout coenegrachts",
      "photoUrl": "",
      "userId": "17436663762688073473"
     },
     "user_tz": -120
    },
    "id": "QGTjc5M-uNCo",
    "outputId": "e36def23-8954-471a-f176-a567eeeeb87f"
   },
   "outputs": [
    {
     "name": "stdout",
     "output_type": "stream",
     "text": [
      "False\n",
      "False\n",
      "False\n",
      "False\n",
      "False\n",
      "False\n",
      "False\n",
      "False\n",
      "False\n"
     ]
    }
   ],
   "source": [
    "print(np.any(np.isnan(x_train)))\n",
    "print(np.any(np.isnan(y_train)))\n",
    "print(np.any(np.isnan(y_train_cat)))\n",
    "\n",
    "print(np.any(np.isnan(x_val)))\n",
    "print(np.any(np.isnan(y_val)))\n",
    "print(np.any(np.isnan(y_val_cat)))\n",
    "\n",
    "print(np.any(np.isnan(x_test)))\n",
    "print(np.any(np.isnan(y_test)))\n",
    "print(np.any(np.isnan(y_test_cat)))"
   ]
  },
  {
   "cell_type": "code",
   "execution_count": null,
   "id": "4dca0db7",
   "metadata": {
    "collapsed": true,
    "id": "kZFQmfpZuNCp"
   },
   "outputs": [],
   "source": []
  },
  {
   "cell_type": "markdown",
   "id": "83a0106d",
   "metadata": {
    "id": "a02gco4zuNCq"
   },
   "source": [
    "## Load stored model"
   ]
  },
  {
   "cell_type": "code",
   "execution_count": null,
   "id": "99aef696",
   "metadata": {
    "colab": {
     "base_uri": "https://localhost:8080/"
    },
    "executionInfo": {
     "elapsed": 8200,
     "status": "ok",
     "timestamp": 1620551853143,
     "user": {
      "displayName": "arnout coenegrachts",
      "photoUrl": "",
      "userId": "17436663762688073473"
     },
     "user_tz": -120
    },
    "id": "7kyTpuNQuNCq",
    "jupyter": {
     "outputs_hidden": false
    },
    "outputId": "30e9840f-3643-4214-efd6-84c38f4d7181"
   },
   "outputs": [
    {
     "name": "stdout",
     "output_type": "stream",
     "text": [
      "Model: \"model\"\n",
      "_________________________________________________________________\n",
      "Layer (type)                 Output Shape              Param #   \n",
      "=================================================================\n",
      "input_1 (InputLayer)         [(None, 40, 12)]          0         \n",
      "_________________________________________________________________\n",
      "conv1d (Conv1D)              (None, 40, 256)           24832     \n",
      "_________________________________________________________________\n",
      "batch_normalization (BatchNo (None, 40, 256)           1024      \n",
      "_________________________________________________________________\n",
      "activation (Activation)      (None, 40, 256)           0         \n",
      "_________________________________________________________________\n",
      "conv1d_1 (Conv1D)            (None, 40, 512)           655872    \n",
      "_________________________________________________________________\n",
      "batch_normalization_1 (Batch (None, 40, 512)           2048      \n",
      "_________________________________________________________________\n",
      "activation_1 (Activation)    (None, 40, 512)           0         \n",
      "_________________________________________________________________\n",
      "conv1d_2 (Conv1D)            (None, 40, 256)           393472    \n",
      "_________________________________________________________________\n",
      "batch_normalization_2 (Batch (None, 40, 256)           1024      \n",
      "_________________________________________________________________\n",
      "activation_2 (Activation)    (None, 40, 256)           0         \n",
      "_________________________________________________________________\n",
      "global_average_pooling1d (Gl (None, 256)               0         \n",
      "_________________________________________________________________\n",
      "dense (Dense)                (None, 10)                2570      \n",
      "=================================================================\n",
      "Total params: 1,080,842\n",
      "Trainable params: 1,078,794\n",
      "Non-trainable params: 2,048\n",
      "_________________________________________________________________\n"
     ]
    }
   ],
   "source": [
    "given_model = keras.models.load_model('./trained_model/fcn/best_model.hdf5')\n",
    "given_model.summary()"
   ]
  },
  {
   "cell_type": "code",
   "execution_count": null,
   "id": "a12e4459",
   "metadata": {
    "collapsed": true,
    "id": "hLrbbccguNCr",
    "jupyter": {
     "outputs_hidden": false
    }
   },
   "outputs": [],
   "source": [
    "#plot_model(given_model,show_shapes=True, show_layer_names=True, to_file='fcn_paper.png')"
   ]
  },
  {
   "cell_type": "code",
   "execution_count": null,
   "id": "9d85c6f2",
   "metadata": {
    "collapsed": true,
    "id": "_imJRbOeuNCr"
   },
   "outputs": [],
   "source": []
  },
  {
   "cell_type": "markdown",
   "id": "1bade96b",
   "metadata": {
    "id": "PvnUjh7EuNCr"
   },
   "source": [
    "## 1 - reproduce FCN model locally"
   ]
  },
  {
   "cell_type": "raw",
   "id": "d94dbaaa",
   "metadata": {
    "id": "nf-VVeJ_uNCs"
   },
   "source": [
    "model = None\n",
    "\n",
    "inputs = keras.Input(shape=(40,12))\n",
    "\n",
    "conv_1 = layers.Conv1D(2*128,8, padding='same', activation = 'linear')(inputs) \n",
    "BN_1   = layers.BatchNormalization()(conv_1)\n",
    "act_1  = layers.Activation('relu')(BN_1)\n",
    "\n",
    "conv_2 = layers.Conv1D(2*256,5, padding='same', activation = 'linear')(act_1)\n",
    "BN_2   = layers.BatchNormalization()(conv_2)\n",
    "act_2  = layers.Activation('relu')(BN_2)\n",
    "\n",
    "conv_3 = layers.Conv1D(2*128,3, padding='same', activation = 'linear')(act_2)\n",
    "BN_3   = layers.BatchNormalization()(conv_3)\n",
    "act_3  = layers.Activation('relu')(BN_3)\n",
    "\n",
    "av = layers.GlobalAveragePooling1D()(act_3)\n",
    "\n",
    "outputs = layers.Dense(10, activation = 'softmax')(av)\n",
    "\n",
    "model = keras.Model(inputs=inputs, outputs=outputs)\n",
    "model.summary()"
   ]
  },
  {
   "cell_type": "code",
   "execution_count": null,
   "id": "1f987121",
   "metadata": {
    "colab": {
     "base_uri": "https://localhost:8080/"
    },
    "executionInfo": {
     "elapsed": 758,
     "status": "ok",
     "timestamp": 1620551857218,
     "user": {
      "displayName": "arnout coenegrachts",
      "photoUrl": "",
      "userId": "17436663762688073473"
     },
     "user_tz": -120
    },
    "id": "743Ss8RiuNCs",
    "outputId": "b288d03b-46c3-4397-bdd4-d8b04cd65186"
   },
   "outputs": [
    {
     "name": "stdout",
     "output_type": "stream",
     "text": [
      "Model: \"model\"\n",
      "_________________________________________________________________\n",
      "Layer (type)                 Output Shape              Param #   \n",
      "=================================================================\n",
      "input_1 (InputLayer)         [(None, 40, 12)]          0         \n",
      "_________________________________________________________________\n",
      "conv1d (Conv1D)              (None, 40, 256)           24832     \n",
      "_________________________________________________________________\n",
      "batch_normalization (BatchNo (None, 40, 256)           1024      \n",
      "_________________________________________________________________\n",
      "activation (Activation)      (None, 40, 256)           0         \n",
      "_________________________________________________________________\n",
      "conv1d_1 (Conv1D)            (None, 40, 512)           655872    \n",
      "_________________________________________________________________\n",
      "batch_normalization_1 (Batch (None, 40, 512)           2048      \n",
      "_________________________________________________________________\n",
      "activation_1 (Activation)    (None, 40, 512)           0         \n",
      "_________________________________________________________________\n",
      "conv1d_2 (Conv1D)            (None, 40, 256)           393472    \n",
      "_________________________________________________________________\n",
      "batch_normalization_2 (Batch (None, 40, 256)           1024      \n",
      "_________________________________________________________________\n",
      "activation_2 (Activation)    (None, 40, 256)           0         \n",
      "_________________________________________________________________\n",
      "global_average_pooling1d (Gl (None, 256)               0         \n",
      "_________________________________________________________________\n",
      "dense (Dense)                (None, 10)                2570      \n",
      "=================================================================\n",
      "Total params: 1,080,842\n",
      "Trainable params: 1,078,794\n",
      "Non-trainable params: 2,048\n",
      "_________________________________________________________________\n"
     ]
    }
   ],
   "source": [
    "model = None\n",
    "inputshape = (40,12)\n",
    "\n",
    "## Parameters\n",
    "drop_frac = -1\n",
    "nb_layers = 3\n",
    "\n",
    "batch_norm = True\n",
    "\n",
    "n_units = 128\n",
    "m_activation = 'relu'\n",
    "m_activation_2 = 'linear'\n",
    "\n",
    "\n",
    "list_nfilters = [2*128, 2*256, 2*128]\n",
    "list_nkernels = [8, 5, 3]\n",
    "\n",
    "## Architecture\n",
    "inputs = keras.Input(shape=inputshape)\n",
    "\n",
    "x_layer = inputs\n",
    "for i in range(nb_layers):\n",
    "        \n",
    "    x_layer = layers.Conv1D(filters = list_nfilters[i],\n",
    "                            kernel_size = list_nkernels[i], \n",
    "                            padding='same', \n",
    "                            activation = m_activation_2)(x_layer) \n",
    "    if batch_norm:\n",
    "        x_layer   = layers.BatchNormalization()(x_layer)\n",
    "        \n",
    "    if drop_frac>0:\n",
    "        x_layer   = layers.Dropout(drop_frac)(x_layer)\n",
    "        \n",
    "    x_layer  = layers.Activation(m_activation)(x_layer)\n",
    "\n",
    "x_layer = layers.GlobalAveragePooling1D()(x_layer)\n",
    "\n",
    "outputs = layers.Dense(10, activation = 'softmax')(x_layer)\n",
    "\n",
    "\n",
    "## Model\n",
    "model = keras.Model(inputs=inputs, outputs=outputs)\n",
    "model.summary()"
   ]
  },
  {
   "cell_type": "code",
   "execution_count": null,
   "id": "57ab47eb",
   "metadata": {
    "collapsed": true,
    "id": "jjouiM7fuNCt",
    "jupyter": {
     "outputs_hidden": false
    }
   },
   "outputs": [],
   "source": []
  },
  {
   "cell_type": "markdown",
   "id": "47224d58",
   "metadata": {
    "id": "kbumy5OjuNCt"
   },
   "source": [
    "## 2 - Compile FCN model"
   ]
  },
  {
   "cell_type": "code",
   "execution_count": null,
   "id": "1471658b",
   "metadata": {
    "collapsed": true,
    "id": "SOrBkcxPuNCu"
   },
   "outputs": [],
   "source": [
    "#loss = 'categorical_crossentropy'\n",
    "loss = tf.keras.losses.CategoricalCrossentropy(from_logits=True)\n",
    "\n",
    "lr = 0.00002\n",
    "opt = keras.optimizers.Adam(learning_rate=lr)\n",
    "\n",
    "model.compile(optimizer = opt,\n",
    "              loss = loss,\n",
    "              metrics=['accuracy']\n",
    "             )"
   ]
  },
  {
   "cell_type": "code",
   "execution_count": null,
   "id": "ffda6e4c",
   "metadata": {
    "colab": {
     "base_uri": "https://localhost:8080/"
    },
    "executionInfo": {
     "elapsed": 581,
     "status": "ok",
     "timestamp": 1620551864706,
     "user": {
      "displayName": "arnout coenegrachts",
      "photoUrl": "",
      "userId": "17436663762688073473"
     },
     "user_tz": -120
    },
    "id": "39WlCnftuNCv",
    "jupyter": {
     "outputs_hidden": false
    },
    "outputId": "92204df9-1e1e-48e9-b158-338825d2b6fa"
   },
   "outputs": [
    {
     "name": "stdout",
     "output_type": "stream",
     "text": [
      "<tensorflow.python.keras.losses.CategoricalCrossentropy object at 0x7f75900dfa10>\n",
      "[]\n",
      "{'name': 'Adam', 'learning_rate': 2e-05, 'decay': 0.0, 'beta_1': 0.9, 'beta_2': 0.999, 'epsilon': 1e-07, 'amsgrad': False}\n"
     ]
    }
   ],
   "source": [
    "print(model.loss)\n",
    "print(model.metrics_names)\n",
    "print(model.optimizer.get_config())"
   ]
  },
  {
   "cell_type": "code",
   "execution_count": null,
   "id": "4ffb0aee",
   "metadata": {
    "collapsed": true,
    "id": "TWE64HgVuNCw"
   },
   "outputs": [],
   "source": []
  },
  {
   "cell_type": "markdown",
   "id": "f107d0bd",
   "metadata": {
    "id": "opJhBbG2uNCw"
   },
   "source": [
    "## 3 - Train FCN model"
   ]
  },
  {
   "cell_type": "code",
   "execution_count": null,
   "id": "224aa680",
   "metadata": {
    "colab": {
     "base_uri": "https://localhost:8080/"
    },
    "executionInfo": {
     "elapsed": 607,
     "status": "ok",
     "timestamp": 1620551868363,
     "user": {
      "displayName": "arnout coenegrachts",
      "photoUrl": "",
      "userId": "17436663762688073473"
     },
     "user_tz": -120
    },
    "id": "fp1ZdtSkuNCx",
    "outputId": "5cd34d2e-676a-4f48-f09e-17e8b93e032e"
   },
   "outputs": [
    {
     "name": "stdout",
     "output_type": "stream",
     "text": [
      "fcn_run_09-05-2021_batchnorm\n"
     ]
    }
   ],
   "source": [
    "import datetime\n",
    "\n",
    "m_dateformat = '%d-%m-%Y'\n",
    "m_date = datetime.datetime.now().strftime(m_dateformat)\n",
    "model_run_name = 'fcn_run_'+m_date\n",
    "\n",
    "if batch_norm:\n",
    "    model_run_name+='_batchnorm'\n",
    "    \n",
    "if drop_frac>0:\n",
    "    model_run_name+='_dropfrac'\n",
    "\n",
    "print(model_run_name)\n",
    "log_dir = './results/' + model_run_name\n",
    "if os.path.exists(log_dir)==False:\n",
    "    os.makedirs(log_dir)\n",
    "\n",
    "\n",
    "weights_path = os.path.join(log_dir, 'weights.h5')\n",
    "model_path   = os.path.join(log_dir, 'model.h5')\n",
    "history_path = os.path.join(log_dir, 'history.h5')"
   ]
  },
  {
   "cell_type": "code",
   "execution_count": null,
   "id": "03c513bf",
   "metadata": {
    "collapsed": true,
    "id": "Z1oYTHjAuNCy"
   },
   "outputs": [],
   "source": [
    "nepochs   = 500\n",
    "batchsize = 92\n",
    "patience  = 20"
   ]
  },
  {
   "cell_type": "code",
   "execution_count": null,
   "id": "e72deced",
   "metadata": {
    "colab": {
     "base_uri": "https://localhost:8080/"
    },
    "executionInfo": {
     "elapsed": 829,
     "status": "ok",
     "timestamp": 1620551871581,
     "user": {
      "displayName": "arnout coenegrachts",
      "photoUrl": "",
      "userId": "17436663762688073473"
     },
     "user_tz": -120
    },
    "id": "Dxd967XRuNC0",
    "outputId": "e9304caa-3d1b-4c61-eb8e-87f8b20ab7fd"
   },
   "outputs": [
    {
     "data": {
      "text/plain": [
       "[<tensorflow.python.keras.callbacks.TensorBoard at 0x7f754c112150>,\n",
       " <tensorflow.python.keras.callbacks.CSVLogger at 0x7f754c0b41d0>,\n",
       " <tensorflow.python.keras.callbacks.EarlyStopping at 0x7f754c0b4150>,\n",
       " <tensorflow.python.keras.callbacks.ModelCheckpoint at 0x7f754c0b4210>]"
      ]
     },
     "execution_count": 15,
     "metadata": {
      "tags": []
     },
     "output_type": "execute_result"
    }
   ],
   "source": [
    "callbacks = [TensorBoard(log_dir=log_dir,write_graph=True),\n",
    "             #\n",
    "             CSVLogger(os.path.join(log_dir,'training.csv')),\n",
    "             #\n",
    "             EarlyStopping(patience=patience), \n",
    "             #\n",
    "             ModelCheckpoint(weights_path, \n",
    "                             save_weights_only = True, \n",
    "                             save_best_only = True, \n",
    "                             verbose = False)\n",
    "]\n",
    "\n",
    "callbacks"
   ]
  },
  {
   "cell_type": "code",
   "execution_count": null,
   "id": "3390144d",
   "metadata": {
    "colab": {
     "base_uri": "https://localhost:8080/"
    },
    "executionInfo": {
     "elapsed": 403199,
     "status": "ok",
     "timestamp": 1620546850075,
     "user": {
      "displayName": "arnout coenegrachts",
      "photoUrl": "",
      "userId": "17436663762688073473"
     },
     "user_tz": -120
    },
    "id": "QnskFmwKuNC1",
    "jupyter": {
     "outputs_hidden": false
    },
    "outputId": "4b57a529-6910-487a-e12f-2e218d6908a9"
   },
   "outputs": [
    {
     "name": "stdout",
     "output_type": "stream",
     "text": [
      "Epoch 1/500\n",
      "209/209 [==============================] - 37s 21ms/step - loss: 1.2473 - accuracy: 0.5802 - val_loss: 1.0129 - val_accuracy: 0.7365\n",
      "Epoch 2/500\n",
      "209/209 [==============================] - 3s 14ms/step - loss: 0.6623 - accuracy: 0.7774 - val_loss: 0.6220 - val_accuracy: 0.8044\n",
      "Epoch 3/500\n",
      "209/209 [==============================] - 3s 15ms/step - loss: 0.5902 - accuracy: 0.7994 - val_loss: 0.5570 - val_accuracy: 0.8087\n",
      "Epoch 4/500\n",
      "209/209 [==============================] - 3s 15ms/step - loss: 0.5542 - accuracy: 0.8111 - val_loss: 0.5040 - val_accuracy: 0.8287\n",
      "Epoch 5/500\n",
      "209/209 [==============================] - 3s 15ms/step - loss: 0.5163 - accuracy: 0.8140 - val_loss: 0.4824 - val_accuracy: 0.8345\n",
      "Epoch 6/500\n",
      "209/209 [==============================] - 3s 15ms/step - loss: 0.5123 - accuracy: 0.8211 - val_loss: 0.4708 - val_accuracy: 0.8372\n",
      "Epoch 7/500\n",
      "209/209 [==============================] - 3s 15ms/step - loss: 0.4814 - accuracy: 0.8338 - val_loss: 0.4584 - val_accuracy: 0.8411\n",
      "Epoch 8/500\n",
      "209/209 [==============================] - 3s 15ms/step - loss: 0.4669 - accuracy: 0.8366 - val_loss: 0.4473 - val_accuracy: 0.8423\n",
      "Epoch 9/500\n",
      "209/209 [==============================] - 3s 15ms/step - loss: 0.4647 - accuracy: 0.8379 - val_loss: 0.4472 - val_accuracy: 0.8426\n",
      "Epoch 10/500\n",
      "209/209 [==============================] - 3s 15ms/step - loss: 0.4507 - accuracy: 0.8412 - val_loss: 0.4299 - val_accuracy: 0.8468\n",
      "Epoch 11/500\n",
      "209/209 [==============================] - 3s 15ms/step - loss: 0.4450 - accuracy: 0.8462 - val_loss: 0.4227 - val_accuracy: 0.8534\n",
      "Epoch 12/500\n",
      "209/209 [==============================] - 3s 15ms/step - loss: 0.4252 - accuracy: 0.8536 - val_loss: 0.4127 - val_accuracy: 0.8540\n",
      "Epoch 13/500\n",
      "209/209 [==============================] - 3s 15ms/step - loss: 0.4176 - accuracy: 0.8536 - val_loss: 0.4146 - val_accuracy: 0.8554\n",
      "Epoch 14/500\n",
      "209/209 [==============================] - 3s 15ms/step - loss: 0.4101 - accuracy: 0.8552 - val_loss: 0.4034 - val_accuracy: 0.8592\n",
      "Epoch 15/500\n",
      "209/209 [==============================] - 3s 15ms/step - loss: 0.3996 - accuracy: 0.8603 - val_loss: 0.4060 - val_accuracy: 0.8543\n",
      "Epoch 16/500\n",
      "209/209 [==============================] - 3s 15ms/step - loss: 0.3954 - accuracy: 0.8592 - val_loss: 0.4068 - val_accuracy: 0.8525\n",
      "Epoch 17/500\n",
      "209/209 [==============================] - 3s 15ms/step - loss: 0.4089 - accuracy: 0.8580 - val_loss: 0.3956 - val_accuracy: 0.8587\n",
      "Epoch 18/500\n",
      "209/209 [==============================] - 3s 15ms/step - loss: 0.3911 - accuracy: 0.8645 - val_loss: 0.3862 - val_accuracy: 0.8603\n",
      "Epoch 19/500\n",
      "209/209 [==============================] - 3s 15ms/step - loss: 0.3859 - accuracy: 0.8646 - val_loss: 0.3859 - val_accuracy: 0.8614\n",
      "Epoch 20/500\n",
      "209/209 [==============================] - 3s 15ms/step - loss: 0.3815 - accuracy: 0.8697 - val_loss: 0.3826 - val_accuracy: 0.8659\n",
      "Epoch 21/500\n",
      "209/209 [==============================] - 3s 15ms/step - loss: 0.3747 - accuracy: 0.8706 - val_loss: 0.3809 - val_accuracy: 0.8654\n",
      "Epoch 22/500\n",
      "209/209 [==============================] - 3s 15ms/step - loss: 0.3859 - accuracy: 0.8655 - val_loss: 0.3794 - val_accuracy: 0.8643\n",
      "Epoch 23/500\n",
      "209/209 [==============================] - 3s 15ms/step - loss: 0.3760 - accuracy: 0.8707 - val_loss: 0.3742 - val_accuracy: 0.8674\n",
      "Epoch 24/500\n",
      "209/209 [==============================] - 3s 15ms/step - loss: 0.3564 - accuracy: 0.8766 - val_loss: 0.3746 - val_accuracy: 0.8679\n",
      "Epoch 25/500\n",
      "209/209 [==============================] - 3s 15ms/step - loss: 0.3548 - accuracy: 0.8766 - val_loss: 0.3675 - val_accuracy: 0.8690\n",
      "Epoch 26/500\n",
      "209/209 [==============================] - 3s 15ms/step - loss: 0.3556 - accuracy: 0.8781 - val_loss: 0.3705 - val_accuracy: 0.8717\n",
      "Epoch 27/500\n",
      "209/209 [==============================] - 3s 15ms/step - loss: 0.3511 - accuracy: 0.8794 - val_loss: 0.3721 - val_accuracy: 0.8709\n",
      "Epoch 28/500\n",
      "209/209 [==============================] - 3s 15ms/step - loss: 0.3573 - accuracy: 0.8748 - val_loss: 0.3714 - val_accuracy: 0.8699\n",
      "Epoch 29/500\n",
      "209/209 [==============================] - 3s 15ms/step - loss: 0.3477 - accuracy: 0.8786 - val_loss: 0.3699 - val_accuracy: 0.8651\n",
      "Epoch 30/500\n",
      "209/209 [==============================] - 3s 15ms/step - loss: 0.3507 - accuracy: 0.8772 - val_loss: 0.3619 - val_accuracy: 0.8689\n",
      "Epoch 31/500\n",
      "209/209 [==============================] - 3s 15ms/step - loss: 0.3400 - accuracy: 0.8794 - val_loss: 0.3768 - val_accuracy: 0.8598\n",
      "Epoch 32/500\n",
      "209/209 [==============================] - 3s 15ms/step - loss: 0.3318 - accuracy: 0.8840 - val_loss: 0.3627 - val_accuracy: 0.8714\n",
      "Epoch 33/500\n",
      "209/209 [==============================] - 3s 15ms/step - loss: 0.3328 - accuracy: 0.8850 - val_loss: 0.3620 - val_accuracy: 0.8724\n",
      "Epoch 34/500\n",
      "209/209 [==============================] - 3s 15ms/step - loss: 0.3320 - accuracy: 0.8847 - val_loss: 0.3551 - val_accuracy: 0.8760\n",
      "Epoch 35/500\n",
      "209/209 [==============================] - 3s 15ms/step - loss: 0.3272 - accuracy: 0.8849 - val_loss: 0.3543 - val_accuracy: 0.8760\n",
      "Epoch 36/500\n",
      "209/209 [==============================] - 3s 15ms/step - loss: 0.3171 - accuracy: 0.8893 - val_loss: 0.3512 - val_accuracy: 0.8774\n",
      "Epoch 37/500\n",
      "209/209 [==============================] - 3s 15ms/step - loss: 0.3229 - accuracy: 0.8883 - val_loss: 0.3629 - val_accuracy: 0.8726\n",
      "Epoch 38/500\n",
      "209/209 [==============================] - 3s 15ms/step - loss: 0.3168 - accuracy: 0.8893 - val_loss: 0.3499 - val_accuracy: 0.8751\n",
      "Epoch 39/500\n",
      "209/209 [==============================] - 3s 15ms/step - loss: 0.3211 - accuracy: 0.8899 - val_loss: 0.3522 - val_accuracy: 0.8802\n",
      "Epoch 40/500\n",
      "209/209 [==============================] - 3s 15ms/step - loss: 0.3191 - accuracy: 0.8895 - val_loss: 0.3454 - val_accuracy: 0.8802\n",
      "Epoch 41/500\n",
      "209/209 [==============================] - 3s 15ms/step - loss: 0.3192 - accuracy: 0.8912 - val_loss: 0.3409 - val_accuracy: 0.8823\n",
      "Epoch 42/500\n",
      "209/209 [==============================] - 3s 15ms/step - loss: 0.3010 - accuracy: 0.8974 - val_loss: 0.3576 - val_accuracy: 0.8709\n",
      "Epoch 43/500\n",
      "209/209 [==============================] - 3s 15ms/step - loss: 0.3078 - accuracy: 0.8918 - val_loss: 0.3477 - val_accuracy: 0.8742\n",
      "Epoch 44/500\n",
      "209/209 [==============================] - 3s 15ms/step - loss: 0.3024 - accuracy: 0.8930 - val_loss: 0.3415 - val_accuracy: 0.8810\n",
      "Epoch 45/500\n",
      "209/209 [==============================] - 3s 15ms/step - loss: 0.3016 - accuracy: 0.8966 - val_loss: 0.3398 - val_accuracy: 0.8820\n",
      "Epoch 46/500\n",
      "209/209 [==============================] - 3s 15ms/step - loss: 0.3080 - accuracy: 0.8937 - val_loss: 0.3432 - val_accuracy: 0.8817\n",
      "Epoch 47/500\n",
      "209/209 [==============================] - 3s 15ms/step - loss: 0.2998 - accuracy: 0.8954 - val_loss: 0.3398 - val_accuracy: 0.8812\n",
      "Epoch 48/500\n",
      "209/209 [==============================] - 3s 15ms/step - loss: 0.2947 - accuracy: 0.8936 - val_loss: 0.3291 - val_accuracy: 0.8854\n",
      "Epoch 49/500\n",
      "209/209 [==============================] - 3s 15ms/step - loss: 0.2894 - accuracy: 0.8999 - val_loss: 0.3719 - val_accuracy: 0.8639\n",
      "Epoch 50/500\n",
      "209/209 [==============================] - 3s 15ms/step - loss: 0.2945 - accuracy: 0.8973 - val_loss: 0.3289 - val_accuracy: 0.8851\n",
      "Epoch 51/500\n",
      "209/209 [==============================] - 3s 15ms/step - loss: 0.2852 - accuracy: 0.9014 - val_loss: 0.3399 - val_accuracy: 0.8804\n",
      "Epoch 52/500\n",
      "209/209 [==============================] - 3s 15ms/step - loss: 0.2891 - accuracy: 0.8988 - val_loss: 0.3392 - val_accuracy: 0.8824\n",
      "Epoch 53/500\n",
      "209/209 [==============================] - 3s 15ms/step - loss: 0.2843 - accuracy: 0.9005 - val_loss: 0.3509 - val_accuracy: 0.8799\n",
      "Epoch 54/500\n",
      "209/209 [==============================] - 3s 15ms/step - loss: 0.2828 - accuracy: 0.9016 - val_loss: 0.3324 - val_accuracy: 0.8846\n",
      "Epoch 55/500\n",
      "209/209 [==============================] - 3s 15ms/step - loss: 0.2837 - accuracy: 0.9010 - val_loss: 0.3429 - val_accuracy: 0.8809\n",
      "Epoch 56/500\n",
      "209/209 [==============================] - 3s 15ms/step - loss: 0.2851 - accuracy: 0.9022 - val_loss: 0.3469 - val_accuracy: 0.8762\n",
      "Epoch 57/500\n",
      "209/209 [==============================] - 3s 15ms/step - loss: 0.2763 - accuracy: 0.9071 - val_loss: 0.3319 - val_accuracy: 0.8852\n",
      "Epoch 58/500\n",
      "209/209 [==============================] - 3s 15ms/step - loss: 0.2724 - accuracy: 0.9058 - val_loss: 0.3363 - val_accuracy: 0.8849\n",
      "Epoch 59/500\n",
      "209/209 [==============================] - 3s 15ms/step - loss: 0.2685 - accuracy: 0.9065 - val_loss: 0.3319 - val_accuracy: 0.8890\n",
      "Epoch 60/500\n",
      "209/209 [==============================] - 3s 15ms/step - loss: 0.2669 - accuracy: 0.9088 - val_loss: 0.3329 - val_accuracy: 0.8863\n",
      "Epoch 61/500\n",
      "209/209 [==============================] - 3s 15ms/step - loss: 0.2609 - accuracy: 0.9100 - val_loss: 0.3378 - val_accuracy: 0.8821\n",
      "Epoch 62/500\n",
      "209/209 [==============================] - 3s 15ms/step - loss: 0.2702 - accuracy: 0.9057 - val_loss: 0.3332 - val_accuracy: 0.8838\n",
      "Epoch 63/500\n",
      "209/209 [==============================] - 3s 15ms/step - loss: 0.2628 - accuracy: 0.9101 - val_loss: 0.3300 - val_accuracy: 0.8874\n",
      "Epoch 64/500\n",
      "209/209 [==============================] - 3s 15ms/step - loss: 0.2640 - accuracy: 0.9086 - val_loss: 0.3264 - val_accuracy: 0.8871\n",
      "Epoch 65/500\n",
      "209/209 [==============================] - 3s 15ms/step - loss: 0.2679 - accuracy: 0.9029 - val_loss: 0.3273 - val_accuracy: 0.8888\n",
      "Epoch 66/500\n",
      "209/209 [==============================] - 3s 15ms/step - loss: 0.2636 - accuracy: 0.9062 - val_loss: 0.3330 - val_accuracy: 0.8871\n",
      "Epoch 67/500\n",
      "209/209 [==============================] - 3s 15ms/step - loss: 0.2639 - accuracy: 0.9085 - val_loss: 0.3321 - val_accuracy: 0.8845\n",
      "Epoch 68/500\n",
      "209/209 [==============================] - 3s 15ms/step - loss: 0.2522 - accuracy: 0.9123 - val_loss: 0.3357 - val_accuracy: 0.8838\n",
      "Epoch 69/500\n",
      "209/209 [==============================] - 3s 15ms/step - loss: 0.2573 - accuracy: 0.9132 - val_loss: 0.3219 - val_accuracy: 0.8916\n",
      "Epoch 70/500\n",
      "209/209 [==============================] - 3s 15ms/step - loss: 0.2552 - accuracy: 0.9123 - val_loss: 0.3308 - val_accuracy: 0.8854\n",
      "Epoch 71/500\n",
      "209/209 [==============================] - 3s 15ms/step - loss: 0.2531 - accuracy: 0.9136 - val_loss: 0.3317 - val_accuracy: 0.8873\n",
      "Epoch 72/500\n",
      "209/209 [==============================] - 3s 15ms/step - loss: 0.2486 - accuracy: 0.9187 - val_loss: 0.3227 - val_accuracy: 0.8873\n",
      "Epoch 73/500\n",
      "209/209 [==============================] - 3s 15ms/step - loss: 0.2431 - accuracy: 0.9145 - val_loss: 0.3292 - val_accuracy: 0.8926\n",
      "Epoch 74/500\n",
      "209/209 [==============================] - 3s 15ms/step - loss: 0.2572 - accuracy: 0.9094 - val_loss: 0.3266 - val_accuracy: 0.8854\n",
      "Epoch 75/500\n",
      "209/209 [==============================] - 3s 15ms/step - loss: 0.2404 - accuracy: 0.9200 - val_loss: 0.3248 - val_accuracy: 0.8934\n",
      "Epoch 76/500\n",
      "209/209 [==============================] - 3s 15ms/step - loss: 0.2414 - accuracy: 0.9179 - val_loss: 0.3272 - val_accuracy: 0.8885\n",
      "Epoch 77/500\n",
      "209/209 [==============================] - 3s 15ms/step - loss: 0.2479 - accuracy: 0.9137 - val_loss: 0.3227 - val_accuracy: 0.8893\n",
      "Epoch 78/500\n",
      "209/209 [==============================] - 3s 15ms/step - loss: 0.2513 - accuracy: 0.9135 - val_loss: 0.3233 - val_accuracy: 0.8893\n",
      "Epoch 79/500\n",
      "209/209 [==============================] - 3s 15ms/step - loss: 0.2336 - accuracy: 0.9170 - val_loss: 0.3139 - val_accuracy: 0.8941\n",
      "Epoch 80/500\n",
      "209/209 [==============================] - 3s 15ms/step - loss: 0.2365 - accuracy: 0.9210 - val_loss: 0.3259 - val_accuracy: 0.8895\n",
      "Epoch 81/500\n",
      "209/209 [==============================] - 3s 15ms/step - loss: 0.2417 - accuracy: 0.9181 - val_loss: 0.3234 - val_accuracy: 0.8898\n",
      "Epoch 82/500\n",
      "209/209 [==============================] - 3s 15ms/step - loss: 0.2326 - accuracy: 0.9182 - val_loss: 0.3260 - val_accuracy: 0.8915\n",
      "Epoch 83/500\n",
      "209/209 [==============================] - 3s 15ms/step - loss: 0.2367 - accuracy: 0.9182 - val_loss: 0.3335 - val_accuracy: 0.8863\n",
      "Epoch 84/500\n",
      "209/209 [==============================] - 3s 15ms/step - loss: 0.2367 - accuracy: 0.9211 - val_loss: 0.3205 - val_accuracy: 0.8918\n",
      "Epoch 85/500\n",
      "209/209 [==============================] - 3s 15ms/step - loss: 0.2280 - accuracy: 0.9227 - val_loss: 0.3266 - val_accuracy: 0.8910\n",
      "Epoch 86/500\n",
      "209/209 [==============================] - 3s 15ms/step - loss: 0.2361 - accuracy: 0.9163 - val_loss: 0.3193 - val_accuracy: 0.8921\n",
      "Epoch 87/500\n",
      "209/209 [==============================] - 3s 15ms/step - loss: 0.2339 - accuracy: 0.9205 - val_loss: 0.3196 - val_accuracy: 0.8888\n",
      "Epoch 88/500\n",
      "209/209 [==============================] - 3s 15ms/step - loss: 0.2218 - accuracy: 0.9231 - val_loss: 0.3182 - val_accuracy: 0.8904\n",
      "Epoch 89/500\n",
      "209/209 [==============================] - 3s 15ms/step - loss: 0.2302 - accuracy: 0.9205 - val_loss: 0.3277 - val_accuracy: 0.8901\n",
      "Epoch 90/500\n",
      "209/209 [==============================] - 3s 15ms/step - loss: 0.2284 - accuracy: 0.9219 - val_loss: 0.3243 - val_accuracy: 0.8920\n",
      "Epoch 91/500\n",
      "209/209 [==============================] - 3s 15ms/step - loss: 0.2233 - accuracy: 0.9260 - val_loss: 0.3213 - val_accuracy: 0.8945\n",
      "Epoch 92/500\n",
      "209/209 [==============================] - 3s 15ms/step - loss: 0.2203 - accuracy: 0.9283 - val_loss: 0.3164 - val_accuracy: 0.8929\n",
      "Epoch 93/500\n",
      "209/209 [==============================] - 3s 15ms/step - loss: 0.2199 - accuracy: 0.9233 - val_loss: 0.3185 - val_accuracy: 0.8940\n",
      "Epoch 94/500\n",
      "209/209 [==============================] - 3s 15ms/step - loss: 0.2230 - accuracy: 0.9239 - val_loss: 0.3275 - val_accuracy: 0.8890\n",
      "Epoch 95/500\n",
      "209/209 [==============================] - 3s 15ms/step - loss: 0.2208 - accuracy: 0.9263 - val_loss: 0.3127 - val_accuracy: 0.8956\n",
      "Epoch 96/500\n",
      "209/209 [==============================] - 3s 15ms/step - loss: 0.2231 - accuracy: 0.9252 - val_loss: 0.3158 - val_accuracy: 0.8949\n",
      "Epoch 97/500\n",
      "209/209 [==============================] - 3s 15ms/step - loss: 0.2225 - accuracy: 0.9267 - val_loss: 0.3186 - val_accuracy: 0.8898\n",
      "Epoch 98/500\n",
      "209/209 [==============================] - 3s 15ms/step - loss: 0.2195 - accuracy: 0.9247 - val_loss: 0.3205 - val_accuracy: 0.8941\n",
      "Epoch 99/500\n",
      "209/209 [==============================] - 3s 15ms/step - loss: 0.2121 - accuracy: 0.9277 - val_loss: 0.3304 - val_accuracy: 0.8891\n",
      "Epoch 100/500\n",
      "209/209 [==============================] - 3s 15ms/step - loss: 0.2050 - accuracy: 0.9301 - val_loss: 0.3330 - val_accuracy: 0.8870\n",
      "Epoch 101/500\n",
      "209/209 [==============================] - 3s 15ms/step - loss: 0.2171 - accuracy: 0.9257 - val_loss: 0.3286 - val_accuracy: 0.8882\n",
      "Epoch 102/500\n",
      "209/209 [==============================] - 3s 15ms/step - loss: 0.2140 - accuracy: 0.9273 - val_loss: 0.3222 - val_accuracy: 0.8926\n",
      "Epoch 103/500\n",
      "209/209 [==============================] - 3s 15ms/step - loss: 0.2105 - accuracy: 0.9274 - val_loss: 0.3175 - val_accuracy: 0.8963\n",
      "Epoch 104/500\n",
      "209/209 [==============================] - 3s 15ms/step - loss: 0.2048 - accuracy: 0.9301 - val_loss: 0.3179 - val_accuracy: 0.8927\n",
      "Epoch 105/500\n",
      "209/209 [==============================] - 3s 15ms/step - loss: 0.2050 - accuracy: 0.9318 - val_loss: 0.3149 - val_accuracy: 0.8940\n",
      "Epoch 106/500\n",
      "209/209 [==============================] - 3s 15ms/step - loss: 0.1990 - accuracy: 0.9322 - val_loss: 0.3317 - val_accuracy: 0.8920\n",
      "Epoch 107/500\n",
      "209/209 [==============================] - 3s 15ms/step - loss: 0.1984 - accuracy: 0.9351 - val_loss: 0.3181 - val_accuracy: 0.8956\n",
      "Epoch 108/500\n",
      "209/209 [==============================] - 3s 15ms/step - loss: 0.2119 - accuracy: 0.9255 - val_loss: 0.3286 - val_accuracy: 0.8916\n",
      "Epoch 109/500\n",
      "209/209 [==============================] - 3s 15ms/step - loss: 0.2091 - accuracy: 0.9287 - val_loss: 0.3197 - val_accuracy: 0.8971\n",
      "Epoch 110/500\n",
      "209/209 [==============================] - 3s 15ms/step - loss: 0.1988 - accuracy: 0.9334 - val_loss: 0.3167 - val_accuracy: 0.8934\n",
      "Epoch 111/500\n",
      "209/209 [==============================] - 3s 15ms/step - loss: 0.2067 - accuracy: 0.9283 - val_loss: 0.3209 - val_accuracy: 0.8918\n",
      "Epoch 112/500\n",
      "209/209 [==============================] - 3s 15ms/step - loss: 0.2040 - accuracy: 0.9306 - val_loss: 0.3220 - val_accuracy: 0.8931\n",
      "Epoch 113/500\n",
      "209/209 [==============================] - 3s 15ms/step - loss: 0.2002 - accuracy: 0.9307 - val_loss: 0.3156 - val_accuracy: 0.8949\n",
      "Epoch 114/500\n",
      "209/209 [==============================] - 3s 16ms/step - loss: 0.1989 - accuracy: 0.9353 - val_loss: 0.3162 - val_accuracy: 0.8977\n",
      "Epoch 115/500\n",
      "209/209 [==============================] - 3s 16ms/step - loss: 0.2005 - accuracy: 0.9300 - val_loss: 0.3258 - val_accuracy: 0.8954\n"
     ]
    }
   ],
   "source": [
    "history = model.fit(x = x_train, \n",
    "                    y = y_train_cat, \n",
    "                    validation_data = (x_val, y_val_cat),\n",
    "                    #\n",
    "                    batch_size = batchsize, \n",
    "                    epochs = nepochs, \n",
    "                    #\n",
    "                    callbacks = callbacks,\n",
    "                    verbose = 1\n",
    "                    )\n",
    "\n",
    "model.save(model_path)"
   ]
  },
  {
   "cell_type": "markdown",
   "id": "fc6f62cc",
   "metadata": {
    "id": "C4SiI2CHuNC2"
   },
   "source": [
    "## Display"
   ]
  },
  {
   "cell_type": "code",
   "execution_count": null,
   "id": "bde7b669",
   "metadata": {
    "colab": {
     "base_uri": "https://localhost:8080/",
     "height": 413
    },
    "executionInfo": {
     "elapsed": 1486,
     "status": "ok",
     "timestamp": 1620555415271,
     "user": {
      "displayName": "arnout coenegrachts",
      "photoUrl": "",
      "userId": "17436663762688073473"
     },
     "user_tz": -120
    },
    "id": "3q1GPKrtuNC3",
    "outputId": "b6d6e2a6-f9ad-4265-c19d-94414a105a25"
   },
   "outputs": [
    {
     "data": {
      "text/plain": [
       "<matplotlib.legend.Legend at 0x7f7546e7b590>"
      ]
     },
     "execution_count": 46,
     "metadata": {
      "tags": []
     },
     "output_type": "execute_result"
    },
    {
     "data": {
      "image/png": "[encoded data removed]",
      "text/plain": [
       "<Figure size 1300x400 with 2 Axes>"
      ]
     },
     "metadata": {
      "tags": []
     },
     "output_type": "display_data"
    }
   ],
   "source": [
    "plt.close('all')\n",
    "plt.figure(num=1, figsize=(13, 4))\n",
    "\n",
    "plt.subplot(121)\n",
    "plt.plot(history.history['loss'])\n",
    "plt.plot(history.history['val_loss'])\n",
    "plt.ylabel('Loss')\n",
    "plt.xlabel('Epoch')\n",
    "plt.legend(['train', 'val'], loc='upper right')\n",
    "#plt.grid('on')\n",
    "\n",
    "\n",
    "plt.subplot(122)\n",
    "plt.plot(history.history['accuracy'])\n",
    "plt.plot(history.history['val_accuracy'])\n",
    "plt.ylim(0.0, 1.0)\n",
    "plt.ylabel('Accuracy')\n",
    "plt.xlabel('Epoch')\n",
    "plt.legend(['train', 'val'], loc='lower right')\n",
    "#plt.grid('on')"
   ]
  },
  {
   "cell_type": "code",
   "execution_count": null,
   "id": "d0da7e0d",
   "metadata": {
    "colab": {
     "base_uri": "https://localhost:8080/",
     "height": 37
    },
    "executionInfo": {
     "elapsed": 556,
     "status": "ok",
     "timestamp": 1620555421039,
     "user": {
      "displayName": "arnout coenegrachts",
      "photoUrl": "",
      "userId": "17436663762688073473"
     },
     "user_tz": -120
    },
    "id": "00IIYJ36uNC4",
    "outputId": "149b22f0-378e-4a76-ba22-ff96e926a905"
   },
   "outputs": [
    {
     "data": {
      "application/vnd.google.colaboratory.intrinsic+json": {
       "type": "string"
      },
      "text/plain": [
       "'\\n# to open tensorboard, on terminal pinpoint to the result folder for the current runs:\\n    tensorboard --logdir=./results/\\n\\n#On web browser:\\n    http://localhost:6006/\\n'"
      ]
     },
     "execution_count": 47,
     "metadata": {
      "tags": []
     },
     "output_type": "execute_result"
    }
   ],
   "source": [
    "\"\"\"\n",
    "# to open tensorboard, on terminal pinpoint to the result folder for the current runs:\n",
    "    tensorboard --logdir=./results/\n",
    "\n",
    "#On web browser:\n",
    "    http://localhost:6006/\n",
    "\"\"\""
   ]
  },
  {
   "cell_type": "markdown",
   "id": "db578b73",
   "metadata": {
    "id": "AOsej4XnuNC5"
   },
   "source": [
    "## Preds"
   ]
  },
  {
   "cell_type": "code",
   "execution_count": null,
   "id": "2b318097",
   "metadata": {
    "collapsed": true,
    "id": "MMu-9KpQuNC5"
   },
   "outputs": [],
   "source": [
    "def convert_from_categorical(y_categorical):\n",
    "    y_categorical = y_categorical / np.sum(y_categorical, axis=1).reshape((-1,1))\n",
    "    y = np.argmax(y_categorical, axis=1)\n",
    "    return y\n",
    "\n",
    "y_pred_cat = model.predict(x_test)\n",
    "y_pred = convert_from_categorical(y_pred_cat) \n"
   ]
  },
  {
   "cell_type": "code",
   "execution_count": null,
   "id": "7d62d8a2",
   "metadata": {
    "colab": {
     "base_uri": "https://localhost:8080/"
    },
    "executionInfo": {
     "elapsed": 945,
     "status": "ok",
     "timestamp": 1620555425785,
     "user": {
      "displayName": "arnout coenegrachts",
      "photoUrl": "",
      "userId": "17436663762688073473"
     },
     "user_tz": -120
    },
    "id": "1b0eQmlIuNC6",
    "outputId": "d33be509-725f-4139-b856-8c4ef5d2e7a7"
   },
   "outputs": [
    {
     "data": {
      "text/plain": [
       "array([1.59921401e-05, 1.21031426e-05, 2.51911006e-05, 2.30849510e-05,\n",
       "       1.79099472e-04, 4.87374552e-02, 9.50920820e-01, 2.82222190e-05,\n",
       "       1.17314175e-05, 4.63470024e-05], dtype=float32)"
      ]
     },
     "execution_count": 49,
     "metadata": {
      "tags": []
     },
     "output_type": "execute_result"
    }
   ],
   "source": [
    "y_pred_cat[0,:]"
   ]
  },
  {
   "cell_type": "code",
   "execution_count": null,
   "id": "a1c50834",
   "metadata": {
    "collapsed": true,
    "id": "piw5EnBouNC6"
   },
   "outputs": [],
   "source": [
    "cf_matrix_cnt = sklearn.metrics.confusion_matrix(y_test, y_pred, labels=m_classnames_id)\n",
    "\n",
    "temporary_vector = cf_matrix_cnt.sum(axis=1).astype(\"float\"); \n",
    "temporary_vector[temporary_vector==0]=np.nan\n",
    "cf_matrix = cf_matrix_cnt.astype(\"float\")/temporary_vector[:,np.newaxis]\n"
   ]
  },
  {
   "cell_type": "code",
   "execution_count": null,
   "id": "eecc257d",
   "metadata": {
    "colab": {
     "base_uri": "https://localhost:8080/",
     "height": 1000
    },
    "executionInfo": {
     "elapsed": 2299,
     "status": "ok",
     "timestamp": 1620555433771,
     "user": {
      "displayName": "arnout coenegrachts",
      "photoUrl": "",
      "userId": "17436663762688073473"
     },
     "user_tz": -120
    },
    "id": "e9kVbfzZuNC7",
    "outputId": "46fb285a-636a-4df2-dfc5-de97b435598f"
   },
   "outputs": [
    {
     "name": "stderr",
     "output_type": "stream",
     "text": [
      "findfont: Font family ['arial'] not found. Falling back to DejaVu Sans.\n",
      "findfont: Font family ['arial'] not found. Falling back to DejaVu Sans.\n"
     ]
    },
    {
     "name": "stdout",
     "output_type": "stream",
     "text": [
      "\n"
     ]
    },
    {
     "data": {
      "image/png": "[encoded data removed]",
      "text/plain": [
       "<Figure size 1700x700 with 3 Axes>"
      ]
     },
     "metadata": {
      "tags": []
     },
     "output_type": "display_data"
    }
   ],
   "source": [
    "plt.close('all')\n",
    "plot_conf_mat(cf_matrix_cnt, cf_matrix, m_classnames, txt_size=11)"
   ]
  },
  {
   "cell_type": "code",
   "execution_count": null,
   "id": "4ecb1028",
   "metadata": {
    "collapsed": true,
    "id": "kE1njKNkuNC8"
   },
   "outputs": [],
   "source": []
  },
  {
   "cell_type": "code",
   "execution_count": null,
   "id": "3a5c5918",
   "metadata": {
    "collapsed": true,
    "id": "buSFrIMDuNC9"
   },
   "outputs": [],
   "source": []
  },
  {
   "cell_type": "code",
   "execution_count": null,
   "id": "6e92c430",
   "metadata": {
    "collapsed": true,
    "id": "op2gkE0vuNDA"
   },
   "outputs": [],
   "source": []
  }
 ],
 "metadata": {
  "accelerator": "GPU",
  "anaconda-cloud": {},
  "colab": {
   "collapsed_sections": [],
   "name": "run_FCN_model.ipynb",
   "provenance": []
  },
  "kernelspec": {
   "display_name": "Python 3",
   "language": "python",
   "name": "python3"
  },
  "language_info": {
   "codemirror_mode": {
    "name": "ipython",
    "version": 3
   },
   "file_extension": ".py",
   "mimetype": "text/x-python",
   "name": "python",
   "nbconvert_exporter": "python",
   "pygments_lexer": "ipython3",
   "version": "3.8.5"
  }
 },
 "nbformat": 4,
 "nbformat_minor": 5
}
